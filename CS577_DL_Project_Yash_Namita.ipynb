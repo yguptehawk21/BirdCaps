{
  "nbformat": 4,
  "nbformat_minor": 0,
  "metadata": {
    "colab": {
      "name": "CS577_DL_Project.ipynb",
      "provenance": [],
      "collapsed_sections": []
    },
    "kernelspec": {
      "name": "python3",
      "display_name": "Python 3"
    },
    "language_info": {
      "name": "python"
    },
    "accelerator": "GPU"
  },
  "cells": [
    {
      "cell_type": "markdown",
      "metadata": {
        "id": "MvaBoNB1H9Jn"
      },
      "source": [
        "**CS577 Deep Learning Project** \\\n",
        "**Topic** : BirdCaps : Bird species classification using Capsule Networks \\\n",
        "**Team Members** :- \\\n",
        "Yash Pradeep Gupte - A20472798 \\\n",
        "Namita Sandeep Tambe - A20460837 \\"
      ]
    },
    {
      "cell_type": "markdown",
      "metadata": {
        "id": "SM73XkX1H-dS"
      },
      "source": [
        "**Main code**"
      ]
    },
    {
      "cell_type": "code",
      "metadata": {
        "colab": {
          "base_uri": "https://localhost:8080/"
        },
        "id": "9uCcwMTj9zjs",
        "outputId": "8b89dc69-fb20-467d-bd7f-95c9fb04e85f"
      },
      "source": [
        "!nvidia-smi -L"
      ],
      "execution_count": 2,
      "outputs": [
        {
          "output_type": "stream",
          "text": [
            "GPU 0: Tesla T4 (UUID: GPU-1aa97ed3-0560-40fc-9ea2-dcc4972f3649)\n"
          ],
          "name": "stdout"
        }
      ]
    },
    {
      "cell_type": "code",
      "metadata": {
        "colab": {
          "base_uri": "https://localhost:8080/"
        },
        "id": "6tFs3_Ox95Nm",
        "outputId": "41c0d915-7cef-4939-ddf0-08e62948e043"
      },
      "source": [
        "gpu_info = !nvidia-smi\n",
        "gpu_info = '\\n'.join(gpu_info)\n",
        "if gpu_info.find('failed') >= 0:\n",
        "  print('Select the Runtime > \"Change runtime type\" menu to enable a GPU accelerator, ')\n",
        "  print('and then re-execute this cell.')\n",
        "else:\n",
        "  print(gpu_info)"
      ],
      "execution_count": 3,
      "outputs": [
        {
          "output_type": "stream",
          "text": [
            "Tue May  4 23:50:41 2021       \n",
            "+-----------------------------------------------------------------------------+\n",
            "| NVIDIA-SMI 465.19.01    Driver Version: 460.32.03    CUDA Version: 11.2     |\n",
            "|-------------------------------+----------------------+----------------------+\n",
            "| GPU  Name        Persistence-M| Bus-Id        Disp.A | Volatile Uncorr. ECC |\n",
            "| Fan  Temp  Perf  Pwr:Usage/Cap|         Memory-Usage | GPU-Util  Compute M. |\n",
            "|                               |                      |               MIG M. |\n",
            "|===============================+======================+======================|\n",
            "|   0  Tesla T4            Off  | 00000000:00:04.0 Off |                    0 |\n",
            "| N/A   45C    P8    10W /  70W |      0MiB / 15109MiB |      0%      Default |\n",
            "|                               |                      |                  N/A |\n",
            "+-------------------------------+----------------------+----------------------+\n",
            "                                                                               \n",
            "+-----------------------------------------------------------------------------+\n",
            "| Processes:                                                                  |\n",
            "|  GPU   GI   CI        PID   Type   Process name                  GPU Memory |\n",
            "|        ID   ID                                                   Usage      |\n",
            "|=============================================================================|\n",
            "|  No running processes found                                                 |\n",
            "+-----------------------------------------------------------------------------+\n"
          ],
          "name": "stdout"
        }
      ]
    },
    {
      "cell_type": "code",
      "metadata": {
        "colab": {
          "base_uri": "https://localhost:8080/"
        },
        "id": "CZwKXHXL95LJ",
        "outputId": "90b702f9-1174-4d4c-d7a5-54f5fe208d8f"
      },
      "source": [
        "#Mount Drive \n",
        "import os\n",
        "\n",
        "# Mount drive if not mounted already & change current working directory to MyDrive\n",
        "if not os.path.exists('/content/drive/'):\n",
        "  from google.colab import drive\n",
        "  drive.mount('/content/drive/')\n",
        "\n",
        "if os.path.exists('/content/drive'):\n",
        "  os.chdir('drive/My Drive')\n",
        "  print('Current working directory:', os.getcwd())"
      ],
      "execution_count": 4,
      "outputs": [
        {
          "output_type": "stream",
          "text": [
            "Mounted at /content/drive/\n",
            "Current working directory: /content/drive/My Drive\n"
          ],
          "name": "stdout"
        }
      ]
    },
    {
      "cell_type": "code",
      "metadata": {
        "colab": {
          "base_uri": "https://localhost:8080/"
        },
        "id": "_OpW79sPLUEW",
        "outputId": "f72df0ef-11ec-4d29-85ad-ba9c92aaffa6"
      },
      "source": [
        "cd CS577_DeepLearning/Project/"
      ],
      "execution_count": 5,
      "outputs": [
        {
          "output_type": "stream",
          "text": [
            "/content/drive/My Drive/CS577_DeepLearning/Project\n"
          ],
          "name": "stdout"
        }
      ]
    },
    {
      "cell_type": "code",
      "metadata": {
        "colab": {
          "base_uri": "https://localhost:8080/"
        },
        "id": "p8HA3fAVLYkm",
        "outputId": "8e172e57-6b21-45ab-9084-21590aa58c78"
      },
      "source": [
        "ls"
      ],
      "execution_count": 6,
      "outputs": [
        {
          "output_type": "stream",
          "text": [
            "\u001b[0m\u001b[01;34mentire_dataset\u001b[0m/  \u001b[01;34mimages\u001b[0m/  images_details.txt  \u001b[01;34mmodels\u001b[0m/  \u001b[01;34mtest\u001b[0m/  \u001b[01;34mtrain\u001b[0m/\n"
          ],
          "name": "stdout"
        }
      ]
    },
    {
      "cell_type": "code",
      "metadata": {
        "colab": {
          "base_uri": "https://localhost:8080/"
        },
        "id": "mKPXegtw95IQ",
        "outputId": "420a04c5-5fe1-4fc9-d521-8b0c59b357a6"
      },
      "source": [
        "#Import Libraries\n",
        "\n",
        "#Sys and helpers\n",
        "import os\n",
        "import pickle #JSON Serialization & DeSerialization\n",
        "import time\n",
        "import pandas as pd\n",
        "\n",
        "#Math Libraries\n",
        "import numpy as np\n",
        "import random\n",
        "import math\n",
        "\n",
        "#ML Libraries\n",
        "import tensorflow as tf\n",
        "from keras import Input, Model\n",
        "from keras import backend as K\n",
        "from keras.callbacks import TensorBoard\n",
        "from keras.layers import Dense, LeakyReLU, BatchNormalization, ReLU, Reshape, UpSampling2D, Conv2D, Activation, concatenate, Flatten, Lambda, Concatenate, Multiply, MaxPooling2D , Dropout\n",
        "from keras.optimizers import Adam, RMSprop, SGD\n",
        "from keras.models import load_model\n",
        "from keras.preprocessing.image import ImageDataGenerator\n",
        "#from tensorflow.keras.models import load_model , save_model\n",
        "\n",
        "from sklearn.model_selection import  train_test_split\n",
        "from keras.utils import to_categorical\n",
        "from keras.models import load_model\n",
        "import string \n",
        "\n",
        "#Visualization\n",
        "import PIL\n",
        "from PIL import Image\n",
        "from matplotlib import pyplot as plt\n",
        "import matplotlib.image as mpimg\n",
        "from tqdm.notebook import tqdm as tqdm\n",
        "%matplotlib inline\n",
        "\n",
        "print('Modules Imported')"
      ],
      "execution_count": 7,
      "outputs": [
        {
          "output_type": "stream",
          "text": [
            "Modules Imported\n"
          ],
          "name": "stdout"
        }
      ]
    },
    {
      "cell_type": "markdown",
      "metadata": {
        "id": "ZxqAP9Y2wMFZ"
      },
      "source": [
        "**Data Loading**"
      ]
    },
    {
      "cell_type": "code",
      "metadata": {
        "id": "FtcBiJF6kIDs"
      },
      "source": [
        "#Loading Preprocessed and Augmented dataset : final_augmented_dataset_updated_labels0to14.pickle\n",
        "with open('/content/drive/My Drive/CS577_DeepLearning/Project/entire_dataset/final_augmented_dataset_updated_labels0to14.pickle' , 'rb') as f:\n",
        "      final_augmented_dataset = pickle.load(f, encoding='latin1')"
      ],
      "execution_count": 8,
      "outputs": []
    },
    {
      "cell_type": "code",
      "metadata": {
        "colab": {
          "base_uri": "https://localhost:8080/"
        },
        "id": "O0fQupLBAcNt",
        "outputId": "16949ce7-e3fb-42cd-d5ea-4d1fb848ce2d"
      },
      "source": [
        "#Split X_data - image array and y_lables - class labels\n",
        "X_data = np.array([i[0] for i in final_augmented_dataset])\n",
        "y_labels = np.array([i[1] for i in final_augmented_dataset])\n",
        "\n",
        "print(X_data.shape)\n",
        "print(y_labels.shape)"
      ],
      "execution_count": 9,
      "outputs": [
        {
          "output_type": "stream",
          "text": [
            "(56892, 64, 64, 3)\n",
            "(56892,)\n"
          ],
          "name": "stdout"
        }
      ]
    },
    {
      "cell_type": "code",
      "metadata": {
        "id": "j04cTV6ZC7O3"
      },
      "source": [
        "y_labels = to_categorical(y_labels)"
      ],
      "execution_count": 10,
      "outputs": []
    },
    {
      "cell_type": "code",
      "metadata": {
        "colab": {
          "base_uri": "https://localhost:8080/"
        },
        "id": "hhK-3xPhDsaf",
        "outputId": "7f7824d1-233d-4789-b4b7-efcfba7ca86a"
      },
      "source": [
        "print(y_labels.shape)"
      ],
      "execution_count": 11,
      "outputs": [
        {
          "output_type": "stream",
          "text": [
            "(56892, 15)\n"
          ],
          "name": "stdout"
        }
      ]
    },
    {
      "cell_type": "code",
      "metadata": {
        "colab": {
          "base_uri": "https://localhost:8080/"
        },
        "id": "lYhBnIZEDLJx",
        "outputId": "f06136c5-2f9c-4e95-89c5-d0c008f1cd1d"
      },
      "source": [
        "print(y_labels[0])"
      ],
      "execution_count": 12,
      "outputs": [
        {
          "output_type": "stream",
          "text": [
            "[0. 1. 0. 0. 0. 0. 0. 0. 0. 0. 0. 0. 0. 0. 0.]\n"
          ],
          "name": "stdout"
        }
      ]
    },
    {
      "cell_type": "code",
      "metadata": {
        "id": "2d3LjfABGiyO"
      },
      "source": [
        "x_train, x_test, y_train , y_test  = train_test_split(X_data, y_labels, test_size = 0.2 , shuffle = True)"
      ],
      "execution_count": 13,
      "outputs": []
    },
    {
      "cell_type": "code",
      "metadata": {
        "colab": {
          "base_uri": "https://localhost:8080/"
        },
        "id": "DsggP-EdJDD5",
        "outputId": "1d687c79-4bd3-4162-f215-08691ab60284"
      },
      "source": [
        "print(x_test.shape)"
      ],
      "execution_count": 14,
      "outputs": [
        {
          "output_type": "stream",
          "text": [
            "(11379, 64, 64, 3)\n"
          ],
          "name": "stdout"
        }
      ]
    },
    {
      "cell_type": "code",
      "metadata": {
        "id": "jY0qOyfaz_B1"
      },
      "source": [
        "#Split train into validation set and train sets\n",
        "x_val = x_train[:11379]\n",
        "y_val = y_train[:11379]\n",
        "\n",
        "x_train_new = x_train[11379:]\n",
        "y_train_new = y_train[11379:]\n"
      ],
      "execution_count": 15,
      "outputs": []
    },
    {
      "cell_type": "code",
      "metadata": {
        "colab": {
          "base_uri": "https://localhost:8080/"
        },
        "id": "ik3MxIkIJDo9",
        "outputId": "335e48c9-e4fb-4e85-aef4-96c8561ab1cd"
      },
      "source": [
        "print(\"Train data:\")\n",
        "print(x_train_new.shape)\n",
        "print(y_train_new.shape)\n",
        "\n",
        "print(\"\\nValidation data : \")\n",
        "print(x_val.shape)\n",
        "print(y_val.shape)\n",
        "\n",
        "print(\"\\nTest data: \")\n",
        "print(x_test.shape)\n",
        "print(y_test.shape)"
      ],
      "execution_count": 16,
      "outputs": [
        {
          "output_type": "stream",
          "text": [
            "Train data:\n",
            "(34134, 64, 64, 3)\n",
            "(34134, 15)\n",
            "\n",
            "Validation data : \n",
            "(11379, 64, 64, 3)\n",
            "(11379, 15)\n",
            "\n",
            "Test data: \n",
            "(11379, 64, 64, 3)\n",
            "(11379, 15)\n"
          ],
          "name": "stdout"
        }
      ]
    },
    {
      "cell_type": "markdown",
      "metadata": {
        "id": "66aDrQa75Nru"
      },
      "source": [
        "**Capsule Networks Model**"
      ]
    },
    {
      "cell_type": "code",
      "metadata": {
        "id": "AsycJrs695C2"
      },
      "source": [
        "def squash(vectors, axis=-1):\n",
        "    s_squared_norm = K.sum(K.square(vectors), axis, keepdims=True)\n",
        "    scale = s_squared_norm / (1 + s_squared_norm) / K.sqrt(s_squared_norm + K.epsilon())\n",
        "    return scale * vectors"
      ],
      "execution_count": 17,
      "outputs": []
    },
    {
      "cell_type": "code",
      "metadata": {
        "id": "prHiKuF-94_-"
      },
      "source": [
        "def build_capsule_model():\n",
        "  input_layer = Input(shape=(64, 64, 3))\n",
        "\n",
        "  # First Convolutional Layer of the Capsule Architecture\n",
        "  x = Conv2D(filters=256, kernel_size=9, strides=1, padding='valid', name='Conv_layer_1')(input_layer)\n",
        "  x = LeakyReLU()(x)\n",
        "  \n",
        "  # Bach Normaliation layer \n",
        "  x = BatchNormalization(momentum=0.8)(x)\n",
        "\n",
        "  # Primary Capsule layer with 8 vectors * 32 channels = 256 filters\n",
        "  x = Conv2D(filters=8 * 32, kernel_size=9, strides=2, padding='valid', name='Primarycaps_conv_layer_2')(x)\n",
        "\n",
        "  # Reshaping the  8D vector for all 32 feature maps\n",
        "  x = Reshape(target_shape=[-1, 8], name='reshape_primarycap')(x)\n",
        "  \n",
        "  \n",
        "  # Use the quash function to squash the values between 0 and 1  \n",
        "  x = Lambda(squash, name='squash_primarycaps')(x)\n",
        "  x = BatchNormalization(momentum=0.8)(x)\n",
        "\n",
        "  x = Flatten()(x)\n",
        "\n",
        "  #u_hat is multiplication of prediction vector and Weight matrix . Num of capsules = 15 and Number of vectors  = 16\n",
        "  u_hat = Dense(15*16, kernel_initializer='he_normal', bias_initializer='zeros', name='u_hat')(x)\n",
        "\n",
        "  # c is the coupling coefficient whiich is basically a softmax over the previous dense layer\n",
        "  c = Activation('softmax', name='softmax1')(u_hat) \n",
        "  \n",
        "  # s_j is output of current capsule layer that is (u_hat * c)\n",
        "  c = Dense(240)(c) \n",
        "  x = Multiply()([u_hat, c])\n",
        "  s_j = LeakyReLU()(x)\n",
        "\n",
        "  c = Activation('softmax', name='softmax2')(s_j) \n",
        "  x = Multiply()([u_hat, c])\n",
        "  s_j = LeakyReLU()(x)\n",
        "\n",
        "  c = Activation('softmax', name='softmax3')(s_j) \n",
        "  c = Dense(240)(c) \n",
        "  x = Multiply()([u_hat, c])\n",
        "  s_j = LeakyReLU()(x)\n",
        "\n",
        "  #We have executed the above dynamic routing 3 times\n",
        "\n",
        "  cap_pred = Dense(15, activation='softmax')(s_j)\n",
        "\n",
        "  capsule_cls_model = Model(inputs=input_layer, outputs=[cap_pred])\n",
        "\n",
        "  print(capsule_cls_model.summary())\n",
        "\n",
        "  return capsule_cls_model"
      ],
      "execution_count": 18,
      "outputs": []
    },
    {
      "cell_type": "code",
      "metadata": {
        "id": "sB_LigJh949W"
      },
      "source": [
        " # build a basic CNN model for comparision\n",
        " def build_cnn_model():\n",
        "  inputShape = Input((64,64,3))\n",
        "\n",
        "  x = Conv2D(64,(3,3),padding='same',activation='relu')(inputShape)\n",
        "  x = MaxPooling2D((2,2))(x)\n",
        "  x = Dropout(0.5)(x)\n",
        "\n",
        "  x = Conv2D(32,(3,3),padding='same',activation='relu')(x)\n",
        "  x = MaxPooling2D((2,2))(x)\n",
        "  x = Dropout(0.5)(x) \n",
        "\n",
        "\n",
        "  x = Conv2D(32,(3,3),padding='same',activation='relu')(x)\n",
        "  x = MaxPooling2D((2,2))(x)\n",
        "  x = Dropout(0.5)(x)\n",
        "\n",
        "  x = Conv2D(16,(3,3),padding='same',activation='relu')(x)\n",
        "  x = MaxPooling2D((2,2))(x)\n",
        "  x = Dropout(0.5)(x)\n",
        "\n",
        "\n",
        "  x = Flatten()(x)\n",
        "  x = Dense(512, activation='relu')(x)\n",
        "  outputShape = Dense(15,activation='softmax')(x)\n",
        "\n",
        "  cnn_model = Model(inputs = inputShape , outputs = outputShape)\n",
        "  print(cnn_model.summary())\n",
        "\n",
        "  return cnn_model "
      ],
      "execution_count": 19,
      "outputs": []
    },
    {
      "cell_type": "code",
      "metadata": {
        "colab": {
          "base_uri": "https://localhost:8080/"
        },
        "id": "gKeLD6JN943o",
        "outputId": "fc2c2815-c7c1-44ce-a964-f202d7ff399e"
      },
      "source": [
        "#Build and Compile / Load Capsule networks model\n",
        "image_size = 64\n",
        "batch_size = 64\n",
        "\n",
        "print(\"Train data is loaded\")\n",
        "\n",
        "\n",
        "print(\"Test data is loaded\")\n",
        "print(\"dataset loaded completely\")\n",
        "\n",
        "if os.path.exists('./models/capsule_cls_model.h5'):\n",
        "  print(\"Model exits\")\n",
        "  capsule_cls_model = build_capsule_model()\n",
        "  capsule_cls_model = load_model('./models/capsule_cls_model.h5')\n",
        "\n",
        "else :\n",
        "  print(\"Models does not exists\")\n",
        "  capsule_cls_model = build_capsule_model()\n",
        "  capsule_cls_model.compile(optimizer= Adam(lr = 0.0001),loss='categorical_crossentropy', metrics = ['accuracy']) #Model 1. : Adam(lr = 0.0001) , Model 2 : Adam(lr = 0.0002, beta_1=0.5, beta_2=0.999) \n",
        "\n",
        "\n",
        "\n"
      ],
      "execution_count": 20,
      "outputs": [
        {
          "output_type": "stream",
          "text": [
            "Train data is loaded\n",
            "Test data is loaded\n",
            "dataset loaded completely\n",
            "Model exits\n",
            "Model: \"model\"\n",
            "__________________________________________________________________________________________________\n",
            "Layer (type)                    Output Shape         Param #     Connected to                     \n",
            "==================================================================================================\n",
            "input_1 (InputLayer)            [(None, 64, 64, 3)]  0                                            \n",
            "__________________________________________________________________________________________________\n",
            "Conv_layer_1 (Conv2D)           (None, 56, 56, 256)  62464       input_1[0][0]                    \n",
            "__________________________________________________________________________________________________\n",
            "leaky_re_lu (LeakyReLU)         (None, 56, 56, 256)  0           Conv_layer_1[0][0]               \n",
            "__________________________________________________________________________________________________\n",
            "batch_normalization (BatchNorma (None, 56, 56, 256)  1024        leaky_re_lu[0][0]                \n",
            "__________________________________________________________________________________________________\n",
            "Primarycaps_conv_layer_2 (Conv2 (None, 24, 24, 256)  5308672     batch_normalization[0][0]        \n",
            "__________________________________________________________________________________________________\n",
            "reshape_primarycap (Reshape)    (None, 18432, 8)     0           Primarycaps_conv_layer_2[0][0]   \n",
            "__________________________________________________________________________________________________\n",
            "squash_primarycaps (Lambda)     (None, 18432, 8)     0           reshape_primarycap[0][0]         \n",
            "__________________________________________________________________________________________________\n",
            "batch_normalization_1 (BatchNor (None, 18432, 8)     32          squash_primarycaps[0][0]         \n",
            "__________________________________________________________________________________________________\n",
            "flatten (Flatten)               (None, 147456)       0           batch_normalization_1[0][0]      \n",
            "__________________________________________________________________________________________________\n",
            "u_hat (Dense)                   (None, 240)          35389680    flatten[0][0]                    \n",
            "__________________________________________________________________________________________________\n",
            "softmax1 (Activation)           (None, 240)          0           u_hat[0][0]                      \n",
            "__________________________________________________________________________________________________\n",
            "dense (Dense)                   (None, 240)          57840       softmax1[0][0]                   \n",
            "__________________________________________________________________________________________________\n",
            "multiply (Multiply)             (None, 240)          0           u_hat[0][0]                      \n",
            "                                                                 dense[0][0]                      \n",
            "__________________________________________________________________________________________________\n",
            "leaky_re_lu_1 (LeakyReLU)       (None, 240)          0           multiply[0][0]                   \n",
            "__________________________________________________________________________________________________\n",
            "softmax2 (Activation)           (None, 240)          0           leaky_re_lu_1[0][0]              \n",
            "__________________________________________________________________________________________________\n",
            "multiply_1 (Multiply)           (None, 240)          0           u_hat[0][0]                      \n",
            "                                                                 softmax2[0][0]                   \n",
            "__________________________________________________________________________________________________\n",
            "leaky_re_lu_2 (LeakyReLU)       (None, 240)          0           multiply_1[0][0]                 \n",
            "__________________________________________________________________________________________________\n",
            "softmax3 (Activation)           (None, 240)          0           leaky_re_lu_2[0][0]              \n",
            "__________________________________________________________________________________________________\n",
            "dense_1 (Dense)                 (None, 240)          57840       softmax3[0][0]                   \n",
            "__________________________________________________________________________________________________\n",
            "multiply_2 (Multiply)           (None, 240)          0           u_hat[0][0]                      \n",
            "                                                                 dense_1[0][0]                    \n",
            "__________________________________________________________________________________________________\n",
            "leaky_re_lu_3 (LeakyReLU)       (None, 240)          0           multiply_2[0][0]                 \n",
            "__________________________________________________________________________________________________\n",
            "dense_2 (Dense)                 (None, 15)           3615        leaky_re_lu_3[0][0]              \n",
            "==================================================================================================\n",
            "Total params: 40,881,167\n",
            "Trainable params: 40,880,639\n",
            "Non-trainable params: 528\n",
            "__________________________________________________________________________________________________\n",
            "None\n"
          ],
          "name": "stdout"
        }
      ]
    },
    {
      "cell_type": "code",
      "metadata": {
        "id": "xWwC58Kb940w"
      },
      "source": [
        "history_caps = capsule_cls_model.fit(x_train_new ,y_train_new , validation_data= (x_val , y_val) ,epochs =10 , batch_size= 64) "
      ],
      "execution_count": null,
      "outputs": []
    },
    {
      "cell_type": "code",
      "metadata": {
        "colab": {
          "base_uri": "https://localhost:8080/"
        },
        "id": "jmJM7A4OGVVN",
        "outputId": "cbd5797a-d5f3-4268-efef-6ba3d3c46692"
      },
      "source": [
        "#Compile or Load the CNN model\n",
        "\n",
        "if os.path.exists('./models/cnn_model.h5'):\n",
        "  print(\"Model exits\")\n",
        "  cnn_model = build_cnn_model()\n",
        "  cnn_model = load_model('./models/cnn_model.h5')\n",
        "\n",
        "else :\n",
        "  print(\"Models does not exists\")\n",
        "  cnn_model = build_cnn_model()\n",
        "  cnn_model.compile(optimizer= Adam(lr = 0.0001),loss='categorical_crossentropy', metrics = ['accuracy']) #Model 1. : Adam(lr = 0.0001) , Model 2 : Adam(lr = 0.0002, beta_1=0.5, beta_2=0.999) \n"
      ],
      "execution_count": 28,
      "outputs": [
        {
          "output_type": "stream",
          "text": [
            "Model exits\n",
            "Model: \"model_1\"\n",
            "_________________________________________________________________\n",
            "Layer (type)                 Output Shape              Param #   \n",
            "=================================================================\n",
            "input_3 (InputLayer)         [(None, 64, 64, 3)]       0         \n",
            "_________________________________________________________________\n",
            "conv2d (Conv2D)              (None, 64, 64, 64)        1792      \n",
            "_________________________________________________________________\n",
            "max_pooling2d (MaxPooling2D) (None, 32, 32, 64)        0         \n",
            "_________________________________________________________________\n",
            "dropout (Dropout)            (None, 32, 32, 64)        0         \n",
            "_________________________________________________________________\n",
            "conv2d_1 (Conv2D)            (None, 32, 32, 32)        18464     \n",
            "_________________________________________________________________\n",
            "max_pooling2d_1 (MaxPooling2 (None, 16, 16, 32)        0         \n",
            "_________________________________________________________________\n",
            "dropout_1 (Dropout)          (None, 16, 16, 32)        0         \n",
            "_________________________________________________________________\n",
            "conv2d_2 (Conv2D)            (None, 16, 16, 32)        9248      \n",
            "_________________________________________________________________\n",
            "max_pooling2d_2 (MaxPooling2 (None, 8, 8, 32)          0         \n",
            "_________________________________________________________________\n",
            "dropout_2 (Dropout)          (None, 8, 8, 32)          0         \n",
            "_________________________________________________________________\n",
            "conv2d_3 (Conv2D)            (None, 8, 8, 16)          4624      \n",
            "_________________________________________________________________\n",
            "max_pooling2d_3 (MaxPooling2 (None, 4, 4, 16)          0         \n",
            "_________________________________________________________________\n",
            "dropout_3 (Dropout)          (None, 4, 4, 16)          0         \n",
            "_________________________________________________________________\n",
            "flatten_2 (Flatten)          (None, 256)               0         \n",
            "_________________________________________________________________\n",
            "dense_4 (Dense)              (None, 512)               131584    \n",
            "_________________________________________________________________\n",
            "dense_5 (Dense)              (None, 15)                7695      \n",
            "=================================================================\n",
            "Total params: 173,407\n",
            "Trainable params: 173,407\n",
            "Non-trainable params: 0\n",
            "_________________________________________________________________\n",
            "None\n"
          ],
          "name": "stdout"
        }
      ]
    },
    {
      "cell_type": "code",
      "metadata": {
        "id": "6zdijhi-Jj9O"
      },
      "source": [
        "history_cnn = cnn_model.fit(x_train_new ,y_train_new , validation_data= (x_val , y_val) ,epochs =100 , batch_size= 64) "
      ],
      "execution_count": null,
      "outputs": []
    },
    {
      "cell_type": "code",
      "metadata": {
        "id": "a2h7gHX-QB8u"
      },
      "source": [
        "#save cnn model\n",
        "cnn_model.save(\"./models/cnn_model.h5\")"
      ],
      "execution_count": null,
      "outputs": []
    },
    {
      "cell_type": "code",
      "metadata": {
        "colab": {
          "base_uri": "https://localhost:8080/",
          "height": 310
        },
        "id": "g6h7Fr3M94x5",
        "outputId": "19087068-fcbb-4948-9618-4b1fde6884c5"
      },
      "source": [
        "rows = 3\n",
        "columns = 3\n",
        "fig = plt.figure(figsize=(10, 7))\n",
        "\n",
        "fig.add_subplot(rows, columns, 1)\n",
        "plt.imshow(x_test[45])\n",
        "plt.axis('off')\n",
        "plt.title(\"Image 1\")\n",
        "\n",
        "\n",
        "fig.add_subplot(rows, columns, 2)\n",
        "plt.imshow(x_test[60])\n",
        "plt.axis('off')\n",
        "plt.title(\"Image 2\")\n",
        "\n",
        "\n",
        "fig.add_subplot(rows, columns, 3)\n",
        "plt.imshow(x_test[8423])\n",
        "plt.axis('off')\n",
        "plt.title(\"Image 3\")\n",
        "\n",
        "\n",
        "fig.add_subplot(rows, columns, 4)\n",
        "plt.imshow(x_test[11])\n",
        "plt.axis('off')\n",
        "plt.title(\"Image 4\")\n",
        "\n",
        "\n",
        "fig.add_subplot(rows, columns, 5)\n",
        "plt.imshow(x_test[1204])\n",
        "plt.axis('off')\n",
        "plt.title(\"Image 5\")\n",
        "\n",
        "fig.add_subplot(rows, columns, 6)\n",
        "plt.imshow(x_test[5623])\n",
        "plt.axis('off')\n",
        "plt.title(\"Image 6\")\n",
        "\n",
        "\n"
      ],
      "execution_count": 22,
      "outputs": [
        {
          "output_type": "execute_result",
          "data": {
            "text/plain": [
              "Text(0.5, 1.0, 'Image 6')"
            ]
          },
          "metadata": {
            "tags": []
          },
          "execution_count": 22
        },
        {
          "output_type": "display_data",
          "data": {
            "image/png": "[encoded data removed]",
            "text/plain": [
              "<Figure size 720x504 with 6 Axes>"
            ]
          },
          "metadata": {
            "tags": [],
            "needs_background": "light"
          }
        }
      ]
    },
    {
      "cell_type": "code",
      "metadata": {
        "colab": {
          "base_uri": "https://localhost:8080/"
        },
        "id": "BwZcix5294u8",
        "outputId": "812e18e9-9ce3-4490-d622-c85c8441534f"
      },
      "source": [
        "#print(y_test[45])\n",
        "print(\"Actual Labels\")\n",
        "print(\"Image 1 label :\", np.argmax(y_test[45])+1) \n",
        "print(\"Image 2 label :\", np.argmax(y_test[60])+1) \n",
        "print(\"Image 3 label: \", np.argmax(y_test[8423])+1) \n",
        "print(\"Image 4 label: \", np.argmax(y_test[11])+1)\n",
        "print(\"Image 5 label: \", np.argmax(y_test[1204])+1)\n",
        "print(\"Image 6 label: \", np.argmax(y_test[5623])+1)"
      ],
      "execution_count": 23,
      "outputs": [
        {
          "output_type": "stream",
          "text": [
            "Actual Labels\n",
            "Image 1 label : 14\n",
            "Image 2 label : 14\n",
            "Image 3 label:  11\n",
            "Image 4 label:  14\n",
            "Image 5 label:  2\n",
            "Image 6 label:  2\n"
          ],
          "name": "stdout"
        }
      ]
    },
    {
      "cell_type": "code",
      "metadata": {
        "colab": {
          "base_uri": "https://localhost:8080/"
        },
        "id": "EA0hkr9394sV",
        "outputId": "eac7f8e1-5eeb-4a57-9f8f-3c4bbb991fa9"
      },
      "source": [
        "# Make a prediction using capsule model\n",
        "pred1 = capsule_cls_model.predict(x_test[45:46])\n",
        "pred2 = capsule_cls_model.predict(x_test[60:61])\n",
        "pred3 = capsule_cls_model.predict(x_test[8423:8424])\n",
        "pred4 = capsule_cls_model.predict(x_test[11:12])\n",
        "pred5 = capsule_cls_model.predict(x_test[1204:1205])\n",
        "pred6 = capsule_cls_model.predict(x_test[5623:5624])\n",
        "#print(\"Predictions vector : \",pred)\n",
        "print(\"Predicted Class labels :\")\n",
        "\n",
        "print(\"Image 1 predicted label:\", np.argmax(pred1)+1 )\n",
        "print(\"Image 2 predicted label:\", np.argmax(pred2)+1)\n",
        "print(\"Image 3 predicted label:\", np.argmax(pred3)+1)\n",
        "print(\"Image 4 predicted label:\", np.argmax(pred4)+1)\n",
        "print(\"Image 5 predicted label:\", np.argmax(pred5)+1)\n",
        "print(\"Image 6 predicted label:\", np.argmax(pred6)+1)"
      ],
      "execution_count": 24,
      "outputs": [
        {
          "output_type": "stream",
          "text": [
            "Predicted Class labels :\n",
            "Image 1 predicted label: 14\n",
            "Image 2 predicted label: 14\n",
            "Image 3 predicted label: 11\n",
            "Image 4 predicted label: 2\n",
            "Image 5 predicted label: 2\n",
            "Image 6 predicted label: 2\n"
          ],
          "name": "stdout"
        }
      ]
    },
    {
      "cell_type": "code",
      "metadata": {
        "colab": {
          "base_uri": "https://localhost:8080/"
        },
        "id": "pSuUYtUJ7A4g",
        "outputId": "0e8e1cc0-6e0e-4bdc-ac50-2dd4f5465a7c"
      },
      "source": [
        "#Evaluate test set using capsule model\n",
        "eval_test = capsule_cls_model.evaluate(x_test, y_test, batch_size=64)"
      ],
      "execution_count": 25,
      "outputs": [
        {
          "output_type": "stream",
          "text": [
            "178/178 [==============================] - 18s 69ms/step - loss: 0.3695 - accuracy: 0.9090\n"
          ],
          "name": "stdout"
        }
      ]
    },
    {
      "cell_type": "code",
      "metadata": {
        "id": "oj7ATtDN94py"
      },
      "source": [
        "#save capsule model\n",
        "capsule_cls_model.save(\"./models/capsule_cls_model.h5\")"
      ],
      "execution_count": null,
      "outputs": []
    },
    {
      "cell_type": "code",
      "metadata": {
        "id": "Xu9_2UnzJyUy"
      },
      "source": [
        ""
      ],
      "execution_count": null,
      "outputs": []
    },
    {
      "cell_type": "code",
      "metadata": {
        "id": "r2OFC8pT94nF",
        "colab": {
          "base_uri": "https://localhost:8080/"
        },
        "outputId": "cdc1ccbb-c9ae-434b-922d-ed0fb36fd23e"
      },
      "source": [
        "# Make a prediction using CNN model\n",
        "cnn_pred1 = cnn_model.predict(x_test[45:46])\n",
        "cnn_pred2 = cnn_model.predict(x_test[60:61])\n",
        "cnn_pred3 = cnn_model.predict(x_test[8423:8424])\n",
        "cnn_pred4 = cnn_model.predict(x_test[11:12])\n",
        "cnn_pred5 = cnn_model.predict(x_test[1204:1205])\n",
        "cnn_pred6 = cnn_model.predict(x_test[5623:5624])\n",
        "#print(\"Predictions vector : \",pred)\n",
        "print(\"Predicted Class labels :\")\n",
        "\n",
        "print(\"Image 1 predicted label:\", np.argmax(cnn_pred1)+1 )\n",
        "print(\"Image 2 predicted label:\", np.argmax(cnn_pred2)+1)\n",
        "print(\"Image 3 predicted label:\", np.argmax(cnn_pred3)+1)\n",
        "print(\"Image 4 predicted label:\", np.argmax(cnn_pred4)+1)\n",
        "print(\"Image 5 predicted label:\", np.argmax(cnn_pred5)+1)\n",
        "print(\"Image 6 predicted label:\", np.argmax(cnn_pred6)+1)"
      ],
      "execution_count": 29,
      "outputs": [
        {
          "output_type": "stream",
          "text": [
            "Predicted Class labels :\n",
            "Image 1 predicted label: 6\n",
            "Image 2 predicted label: 15\n",
            "Image 3 predicted label: 11\n",
            "Image 4 predicted label: 14\n",
            "Image 5 predicted label: 2\n",
            "Image 6 predicted label: 12\n"
          ],
          "name": "stdout"
        }
      ]
    },
    {
      "cell_type": "code",
      "metadata": {
        "id": "E4es1b2hiftt",
        "colab": {
          "base_uri": "https://localhost:8080/"
        },
        "outputId": "7a5eac22-f49f-4a3a-a6a9-1c9e47404722"
      },
      "source": [
        "#Evaluate test set using CNN model\n",
        "cnn_eval_test = cnn_model.evaluate(x_test, y_test, batch_size=64)"
      ],
      "execution_count": 30,
      "outputs": [
        {
          "output_type": "stream",
          "text": [
            "178/178 [==============================] - 1s 4ms/step - loss: 1.0220 - accuracy: 0.6442\n"
          ],
          "name": "stdout"
        }
      ]
    }
  ]
}